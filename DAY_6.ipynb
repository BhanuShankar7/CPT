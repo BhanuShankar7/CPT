{
 "cells": [
  {
   "cell_type": "code",
   "execution_count": 2,
   "id": "fd8d9168",
   "metadata": {},
   "outputs": [
    {
     "name": "stdout",
     "output_type": "stream",
     "text": [
      "hello henry\n",
      "hello vijay\n"
     ]
    }
   ],
   "source": [
    "#method overloading\n",
    "def hi(name = \"henry\"):\n",
    "    print(\"hello\",name)\n",
    "hi()\n",
    "hi('vijay')"
   ]
  },
  {
   "cell_type": "code",
   "execution_count": 3,
   "id": "ff4ef273",
   "metadata": {},
   "outputs": [
    {
     "name": "stdout",
     "output_type": "stream",
     "text": [
      "No Data\n",
      "Name: vijay\n",
      "Name: bhanu,Age: 20\n"
     ]
    },
    {
     "data": {
      "text/plain": [
       "<__main__.student at 0x2a047483750>"
      ]
     },
     "execution_count": 3,
     "metadata": {},
     "output_type": "execute_result"
    }
   ],
   "source": [
    "#simple overloading using class and constructor\n",
    "\n",
    "class student:\n",
    "    def __init__(self,name= None,age = None):\n",
    "        if name and age:\n",
    "            print(f\"Name: {name},Age: {age}\")\n",
    "        elif name:\n",
    "            print(f\"Name: {name}\")\n",
    "        else:\n",
    "            print(\"No Data\")\n",
    "student()\n",
    "student(\"vijay\")\n",
    "student(\"bhanu\",20)     "
   ]
  },
  {
   "cell_type": "code",
   "execution_count": null,
   "id": "fc33f5c0",
   "metadata": {},
   "outputs": [],
   "source": []
  }
 ],
 "metadata": {
  "kernelspec": {
   "display_name": "Python 3",
   "language": "python",
   "name": "python3"
  },
  "language_info": {
   "codemirror_mode": {
    "name": "ipython",
    "version": 3
   },
   "file_extension": ".py",
   "mimetype": "text/x-python",
   "name": "python",
   "nbconvert_exporter": "python",
   "pygments_lexer": "ipython3",
   "version": "3.13.3"
  }
 },
 "nbformat": 4,
 "nbformat_minor": 5
}
