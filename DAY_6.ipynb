{
 "cells": [
  {
   "cell_type": "code",
   "execution_count": 2,
   "id": "fd8d9168",
   "metadata": {},
   "outputs": [
    {
     "name": "stdout",
     "output_type": "stream",
     "text": [
      "hello henry\n",
      "hello vijay\n"
     ]
    }
   ],
   "source": [
    "#method overloading\n",
    "def hi(name = \"henry\"):\n",
    "    print(\"hello\",name)\n",
    "hi()\n",
    "hi('vijay')"
   ]
  },
  {
   "cell_type": "code",
   "execution_count": 3,
   "id": "ff4ef273",
   "metadata": {},
   "outputs": [
    {
     "name": "stdout",
     "output_type": "stream",
     "text": [
      "No Data\n",
      "Name: vijay\n",
      "Name: bhanu,Age: 20\n"
     ]
    },
    {
     "data": {
      "text/plain": [
       "<__main__.student at 0x2a047483750>"
      ]
     },
     "execution_count": 3,
     "metadata": {},
     "output_type": "execute_result"
    }
   ],
   "source": [
    "#simple overloading using class and constructor\n",
    "\n",
    "class student:\n",
    "    def __init__(self,name= None,age = None):\n",
    "        if name and age:\n",
    "            print(f\"Name: {name},Age: {age}\")\n",
    "        elif name:\n",
    "            print(f\"Name: {name}\")\n",
    "        else:\n",
    "            print(\"No Data\")\n",
    "student()\n",
    "student(\"vijay\")\n",
    "student(\"bhanu\",20)     "
   ]
  },
  {
   "cell_type": "code",
   "execution_count": 8,
   "id": "fc33f5c0",
   "metadata": {},
   "outputs": [
    {
     "name": "stdout",
     "output_type": "stream",
     "text": [
      "True\n",
      "True\n"
     ]
    }
   ],
   "source": [
    "#isinstance()\n",
    "\n",
    "class pet:\n",
    "    pass\n",
    "class dog(pet):\n",
    "    pass\n",
    "d=dog()\n",
    "print(isinstance(d,dog))\n",
    "print(isinstance(d,pet))"
   ]
  },
  {
   "cell_type": "code",
   "execution_count": 10,
   "id": "c8c43007",
   "metadata": {},
   "outputs": [
    {
     "name": "stdout",
     "output_type": "stream",
     "text": [
      "(4,7)\n"
     ]
    }
   ],
   "source": [
    "# overloading with operators\n",
    "\n",
    "class val:\n",
    "    def __init__(self,x,y):\n",
    "        self.x=x\n",
    "        self.y=y\n",
    "    def __add__(self,ol):\n",
    "        return val(self.x+ol.x,self.y+ol.y)\n",
    "    def __str__(self):\n",
    "        return f\"({self.x},{self.y})\"\n",
    "a=val(1,2)\n",
    "b=val(3,5)\n",
    "print(a+b)\n",
    "        "
   ]
  },
  {
   "cell_type": "code",
   "execution_count": 13,
   "id": "ccea2e38",
   "metadata": {},
   "outputs": [
    {
     "name": "stdout",
     "output_type": "stream",
     "text": [
      "result:  <__main__.complex object at 0x000002A047D3D450>\n"
     ]
    }
   ],
   "source": [
    "# adding complex numbers\n",
    "\n",
    "class complex:\n",
    "    def __init__(self,r=0, i=0):\n",
    "        self.r=r\n",
    "        self.i=i\n",
    "    def __add__(self,ol):\n",
    "        if isinstance(ol,complex):\n",
    "            return complex(self.r+ol.r, self.i+ol.i)\n",
    "        else:\n",
    "            raise TypeError(\"Unsupported operand-type\")\n",
    "        def __str__(self):\n",
    "            return f\"{self.r} + {self.i}\"\n",
    "a = complex(1,2)\n",
    "b = complex(3,4)\n",
    "print(\"result: \", a+b)\n",
    "        "
   ]
  },
  {
   "cell_type": "code",
   "execution_count": null,
   "id": "90a32576",
   "metadata": {},
   "outputs": [
    {
     "name": "stdout",
     "output_type": "stream",
     "text": [
      "The animal makes a sound\n",
      "The pet barks!!\n"
     ]
    }
   ],
   "source": [
    "# overriding redefine the child class which is already exist\n",
    "\n",
    "class pet:\n",
    "    def sound(self):\n",
    "        print(\"The animal makes a sound\")\n",
    "class dog(pet):\n",
    "    def sound(self):\n",
    "        print(\"The pet barks!!\")\n",
    "a= pet()\n",
    "a.sound()\n",
    "d = dog()\n",
    "d.sound()\n"
   ]
  },
  {
   "cell_type": "code",
   "execution_count": null,
   "id": "10211b9e",
   "metadata": {},
   "outputs": [],
   "source": []
  }
 ],
 "metadata": {
  "kernelspec": {
   "display_name": "Python 3",
   "language": "python",
   "name": "python3"
  },
  "language_info": {
   "codemirror_mode": {
    "name": "ipython",
    "version": 3
   },
   "file_extension": ".py",
   "mimetype": "text/x-python",
   "name": "python",
   "nbconvert_exporter": "python",
   "pygments_lexer": "ipython3",
   "version": "3.13.3"
  }
 },
 "nbformat": 4,
 "nbformat_minor": 5
}
