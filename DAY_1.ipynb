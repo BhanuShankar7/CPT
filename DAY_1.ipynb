{
 "cells": [
  {
   "cell_type": "code",
   "execution_count": 2,
   "id": "7fe67c4e",
   "metadata": {},
   "outputs": [
    {
     "name": "stdout",
     "output_type": "stream",
     "text": [
      "4 8\n",
      "8 4\n"
     ]
    }
   ],
   "source": [
    "a=int(input())\n",
    "b=int(input())\n",
    "print(a,b)\n",
    "a=a^b\n",
    "b=b^a\n",
    "a=a^b\n",
    "print(a,b)"
   ]
  },
  {
   "cell_type": "code",
   "execution_count": 4,
   "id": "fc7f5840",
   "metadata": {},
   "outputs": [
    {
     "name": "stdout",
     "output_type": "stream",
     "text": [
      "3 4\n",
      "4 3\n"
     ]
    }
   ],
   "source": [
    "a=int(input())\n",
    "b=int(input())\n",
    "print(a,b)\n",
    "c=a\n",
    "a=b\n",
    "b=c\n",
    "print(a,b)"
   ]
  },
  {
   "cell_type": "code",
   "execution_count": 5,
   "id": "5bc6986a",
   "metadata": {},
   "outputs": [
    {
     "name": "stdout",
     "output_type": "stream",
     "text": [
      "4 3\n",
      "3 4\n"
     ]
    }
   ],
   "source": [
    "print(a,b)\n",
    "temp = a\n",
    "a =  (a|b) & b\n",
    "b = (temp | b) & temp\n",
    "print(a,b)"
   ]
  },
  {
   "cell_type": "code",
   "execution_count": 6,
   "id": "dc27003b",
   "metadata": {},
   "outputs": [
    {
     "name": "stdout",
     "output_type": "stream",
     "text": [
      "3 4\n",
      "4 3\n"
     ]
    }
   ],
   "source": [
    "print(a,b)\n",
    "d = {'a': a, 'b': b}\n",
    "d['a'], d['b'] = d['b'], d['a']\n",
    "a, b = d['a'], d['b']\n",
    "print(a,b)"
   ]
  },
  {
   "cell_type": "code",
   "execution_count": 7,
   "id": "1a0078fb",
   "metadata": {},
   "outputs": [],
   "source": [
    "gen=iter([1,2,3])\n",
    "lst=list(gen)"
   ]
  },
  {
   "cell_type": "code",
   "execution_count": 8,
   "id": "465a2379",
   "metadata": {},
   "outputs": [
    {
     "name": "stdout",
     "output_type": "stream",
     "text": [
      "[1, 2, 3]\n",
      "[2, 3, 1]\n"
     ]
    }
   ],
   "source": [
    "print(lst)\n",
    "lst[0], lst[1] = lst[1], lst[0]\n",
    "lst[1], lst[2] = lst[2], lst[1]\n",
    "print(lst)"
   ]
  },
  {
   "cell_type": "code",
   "execution_count": 9,
   "id": "986e888b",
   "metadata": {},
   "outputs": [
    {
     "name": "stdout",
     "output_type": "stream",
     "text": [
      "[1, 4, 9, 16, 25, 36, 49, 64, 81, 100]\n"
     ]
    }
   ],
   "source": [
    "n=10\n",
    "print(list(i**2 for i in range(1,n+1)))"
   ]
  },
  {
   "cell_type": "code",
   "execution_count": 10,
   "id": "147fe949",
   "metadata": {},
   "outputs": [
    {
     "name": "stdout",
     "output_type": "stream",
     "text": [
      "[4, 16, 36, 64, 100]\n",
      "[1, 9, 25, 49, 81]\n"
     ]
    }
   ],
   "source": [
    "print([i**2 for i in range(1, n+1) if i % 2 == 0])\n",
    "print([i**2 for i in range(1, n+1) if i % 2 != 0])"
   ]
  },
  {
   "cell_type": "code",
   "execution_count": 15,
   "id": "681ec427",
   "metadata": {},
   "outputs": [
    {
     "name": "stdout",
     "output_type": "stream",
     "text": [
      "327 is not a strong number\n"
     ]
    }
   ],
   "source": [
    "import math\n",
    "num = int(input())\n",
    "sum_of_factorials = 0\n",
    "temp = num\n",
    "\n",
    "while temp > 0:\n",
    "    digit = temp % 10\n",
    "    sum_of_factorials += math.factorial(digit)\n",
    "    temp //= 10\n",
    "\n",
    "if sum_of_factorials == num:\n",
    "    print(f\"{num} is a strong number\")\n",
    "else:\n",
    "    print(f\"{num} is not a strong number\")"
   ]
  },
  {
   "cell_type": "code",
   "execution_count": 16,
   "id": "58cb9792",
   "metadata": {},
   "outputs": [
    {
     "name": "stdout",
     "output_type": "stream",
     "text": [
      "23 is a happy number!\n"
     ]
    }
   ],
   "source": [
    "num = int(input(\"Enter a number: \"))\n",
    "n = num  \n",
    "seen = set()\n",
    "while n != 1 and n not in seen:\n",
    "    seen.add(n)\n",
    "    n = sum(int(digit) ** 2 for digit in str(n))\n",
    "if n == 1:\n",
    "    print(f\"{num} is a happy number!\")\n",
    "else:\n",
    "    print(f\"{num} is not a happy number.\")"
   ]
  },
  {
   "cell_type": "code",
   "execution_count": null,
   "id": "f7a484a4",
   "metadata": {},
   "outputs": [],
   "source": []
  }
 ],
 "metadata": {
  "kernelspec": {
   "display_name": "Python 3",
   "language": "python",
   "name": "python3"
  },
  "language_info": {
   "codemirror_mode": {
    "name": "ipython",
    "version": 3
   },
   "file_extension": ".py",
   "mimetype": "text/x-python",
   "name": "python",
   "nbconvert_exporter": "python",
   "pygments_lexer": "ipython3",
   "version": "3.13.3"
  }
 },
 "nbformat": 4,
 "nbformat_minor": 5
}
