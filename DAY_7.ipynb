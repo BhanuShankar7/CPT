{
 "cells": [
  {
   "cell_type": "code",
   "execution_count": 2,
   "id": "d145d109",
   "metadata": {},
   "outputs": [
    {
     "name": "stdout",
     "output_type": "stream",
     "text": [
      "denominator cannot be zero\n"
     ]
    }
   ],
   "source": [
    "\"\"\"\n",
    "errors and exceptions\n",
    "types of errors / \"\"\"\n",
    "\n",
    "# handllind zero division error\n",
    "num = int(input(\"enter the numerator:\"))\n",
    "deno = int(input(\"enter the denominator\"))\n",
    "try:\n",
    "    quo = num/deno\n",
    "    print(\"Quotient: \",quo)\n",
    "except ZeroDivisionError:\n",
    "    print(\"denominator cannot be zero\")\n",
    "    "
   ]
  },
  {
   "cell_type": "code",
   "execution_count": null,
   "id": "0496f0c9",
   "metadata": {},
   "outputs": [],
   "source": []
  }
 ],
 "metadata": {
  "kernelspec": {
   "display_name": "Python 3",
   "language": "python",
   "name": "python3"
  },
  "language_info": {
   "codemirror_mode": {
    "name": "ipython",
    "version": 3
   },
   "file_extension": ".py",
   "mimetype": "text/x-python",
   "name": "python",
   "nbconvert_exporter": "python",
   "pygments_lexer": "ipython3",
   "version": "3.13.3"
  }
 },
 "nbformat": 4,
 "nbformat_minor": 5
}
