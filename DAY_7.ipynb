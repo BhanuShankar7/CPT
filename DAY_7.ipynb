{
 "cells": [
  {
   "cell_type": "code",
   "execution_count": 2,
   "id": "d145d109",
   "metadata": {},
   "outputs": [
    {
     "name": "stdout",
     "output_type": "stream",
     "text": [
      "denominator cannot be zero\n"
     ]
    }
   ],
   "source": [
    "\"\"\"\n",
    "errors and exceptions\n",
    "types of errors / \"\"\"\n",
    "\n",
    "# handllind zero division error\n",
    "num = int(input(\"enter the numerator:\"))\n",
    "deno = int(input(\"enter the denominator\"))\n",
    "try:\n",
    "    quo = num/deno\n",
    "    print(\"Quotient: \",quo)\n",
    "except ZeroDivisionError:\n",
    "    print(\"denominator cannot be zero\")\n",
    "    "
   ]
  },
  {
   "cell_type": "code",
   "execution_count": 7,
   "id": "0496f0c9",
   "metadata": {},
   "outputs": [
    {
     "name": "stdout",
     "output_type": "stream",
     "text": [
      "Invalid input. Please enter a valid number.\n",
      "bye!\n"
     ]
    }
   ],
   "source": [
    "# multiple exception handlling\n",
    "try:\n",
    "    num = int(input(\"Enter a number: \"))\n",
    "    print(num**2)\n",
    "except (KeyboardInterrupt):\n",
    "    print(\"you have to enter a number... not string\")\n",
    "except (ValueError):\n",
    "    print(\"Invalid input. Please enter a valid number.\")\n",
    "print(\"bye!\")\n"
   ]
  },
  {
   "cell_type": "code",
   "execution_count": null,
   "id": "add868f7",
   "metadata": {},
   "outputs": [
    {
     "name": "stdout",
     "output_type": "stream",
     "text": [
      "4\n",
      "even excuting perfectly .. exception raised manually\n"
     ]
    }
   ],
   "source": [
    "# raise an exception \n",
    "try:\n",
    "    num = 4 \n",
    "    print((num))\n",
    "    raise ValueError\n",
    "except :\n",
    "    print(\"even excuting perfectly .. exception raised manually\")\n"
   ]
  },
  {
   "cell_type": "code",
   "execution_count": 9,
   "id": "f987e21d",
   "metadata": {},
   "outputs": [
    {
     "name": "stdout",
     "output_type": "stream",
     "text": [
      "re-raise\n"
     ]
    },
    {
     "ename": "NameError",
     "evalue": "",
     "output_type": "error",
     "traceback": [
      "\u001b[1;31m---------------------------------------------------------------------------\u001b[0m",
      "\u001b[1;31mNameError\u001b[0m                                 Traceback (most recent call last)",
      "Cell \u001b[1;32mIn[9], line 3\u001b[0m\n\u001b[0;32m      1\u001b[0m \u001b[38;5;66;03m# re -= raise an error\u001b[39;00m\n\u001b[0;32m      2\u001b[0m \u001b[38;5;28;01mtry\u001b[39;00m:\n\u001b[1;32m----> 3\u001b[0m     \u001b[38;5;28;01mraise\u001b[39;00m \u001b[38;5;167;01mNameError\u001b[39;00m\n\u001b[0;32m      4\u001b[0m \u001b[38;5;28;01mexcept\u001b[39;00m :\n\u001b[0;32m      5\u001b[0m     \u001b[38;5;28mprint\u001b[39m(\u001b[38;5;124m\"\u001b[39m\u001b[38;5;124mre-raise\u001b[39m\u001b[38;5;124m\"\u001b[39m)\n",
      "\u001b[1;31mNameError\u001b[0m: "
     ]
    }
   ],
   "source": [
    "# re -= raise an error\n",
    "try:\n",
    "    raise NameError\n",
    "except :\n",
    "    print(\"re-raise\")\n",
    "    raise"
   ]
  },
  {
   "cell_type": "code",
   "execution_count": 12,
   "id": "de7c6c89",
   "metadata": {},
   "outputs": [
    {
     "name": "stdout",
     "output_type": "stream",
     "text": [
      "<class 'Exception'>\n",
      "('hi', 'students')\n",
      "('hi', 'students')\n",
      "assigned1:  hi\n",
      "assigned2:  students\n"
     ]
    }
   ],
   "source": [
    "# instance using in exceptions\n",
    "try:\n",
    "    raise Exception(\"hi\",'students')\n",
    "except Exception as errorObj:\n",
    "    print(type(errorObj))\n",
    "    print(errorObj.args)\n",
    "    print(errorObj)\n",
    "    x,y = errorObj.args\n",
    "    print(\"assigned1: \", x)\n",
    "    print(\"assigned2: \", y)\n",
    "    "
   ]
  },
  {
   "cell_type": "code",
   "execution_count": 13,
   "id": "a4cecc84",
   "metadata": {},
   "outputs": [
    {
     "name": "stdout",
     "output_type": "stream",
     "text": [
      "0.75\n"
     ]
    }
   ],
   "source": [
    "def div(a,b):\n",
    "    try:\n",
    "        c = a/b\n",
    "        return c\n",
    "    except ZeroDivisionError:\n",
    "        return \"Error: Division by zero is not allowed\"\n",
    "a = int(input(\"enter:\"))\n",
    "b = int(input(\"enter:\"))\n",
    "print(div(a,b))"
   ]
  },
  {
   "cell_type": "code",
   "execution_count": null,
   "id": "64df1098",
   "metadata": {},
   "outputs": [],
   "source": []
  }
 ],
 "metadata": {
  "kernelspec": {
   "display_name": "Python 3",
   "language": "python",
   "name": "python3"
  },
  "language_info": {
   "codemirror_mode": {
    "name": "ipython",
    "version": 3
   },
   "file_extension": ".py",
   "mimetype": "text/x-python",
   "name": "python",
   "nbconvert_exporter": "python",
   "pygments_lexer": "ipython3",
   "version": "3.13.3"
  }
 },
 "nbformat": 4,
 "nbformat_minor": 5
}
