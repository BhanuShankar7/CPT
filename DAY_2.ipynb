{
 "cells": [
  {
   "cell_type": "code",
   "execution_count": 1,
   "id": "43258345",
   "metadata": {},
   "outputs": [
    {
     "name": "stdout",
     "output_type": "stream",
     "text": [
      "The factorial of 7 is: 5040\n"
     ]
    }
   ],
   "source": [
    "\"\"\"def min(values):\n",
    "    min_value = values[0]\n",
    "    for i in range(len(values)):\n",
    "        if values[i] < min_value:\n",
    "            min_value = values[i]\n",
    "    return min_value\n",
    "a=int(input(\"Enter number of elements in list: \"))\n",
    "l=[]\n",
    "for i in range(a):\n",
    "    b=int(input(\"Enter numbers in list: \"))\n",
    "    l.append(b)\n",
    "print(\"The minimum value is: \",min(l))\n",
    "\"\"\"\n",
    "\"\"\"def fact(n):\n",
    "    if n == 0 or n == 1:\n",
    "        return 1\n",
    "    else:\n",
    "        return n * fact(n - 1)\n",
    "number = int(input(\"Enter a number: \"))\n",
    "result = fact(number)\n",
    "print(f\"The factorial of {number} is: {result}\")\"\"\"\n",
    "\n",
    "\"\"\"\n",
    "def is_palindrome(s):\n",
    "    return s == s[::-1]\n",
    "number = input(\"Enter a number: \")\n",
    "if is_palindrome(number):\n",
    "    print(f\"{number} is a palindrome.\")\n",
    "else:\n",
    "    print(f\"{number} is not a palindrome.\")\n",
    "    \"\"\"\n",
    "\n",
    "\"\"\"\n",
    "def is_prime(n):\n",
    "    if n <= 1:\n",
    "        return False\n",
    "    for i in range(2, int(n**0.5) + 1):\n",
    "        if n % i == 0:\n",
    "            return False\n",
    "    return True\n",
    "number = int(input(\"Enter a number: \"))\n",
    "if is_prime(number):\n",
    "    print(f\"{number} is a prime number.\")\n",
    "else:\n",
    "    print(f\"{number} is not a prime number.\")\n",
    "\"\"\"\n",
    "\"\"\"\n",
    "def func(n):\n",
    "    if n>50:\n",
    "        return n-5\n",
    "    else:\n",
    "        return func(n+5)\n",
    "number = int(input(\"Enter a number: \"))\n",
    "print(\"The result is: \",func(number))\n",
    "\"\"\"\n",
    "\n",
    "def sfact(n):\n",
    "    if n == 0 or n == 1:\n",
    "        return 1\n",
    "    else:\n",
    "        return n * sfact(n - 1)\n",
    "number = int(input(\"Enter a number: \"))\n",
    "result = sfact(number)\n",
    "print(f\"The factorial of {number} is: {result}\")"
   ]
  },
  {
   "cell_type": "code",
   "execution_count": null,
   "id": "29d3d1cd",
   "metadata": {},
   "outputs": [],
   "source": []
  }
 ],
 "metadata": {
  "kernelspec": {
   "display_name": "Python 3",
   "language": "python",
   "name": "python3"
  },
  "language_info": {
   "codemirror_mode": {
    "name": "ipython",
    "version": 3
   },
   "file_extension": ".py",
   "mimetype": "text/x-python",
   "name": "python",
   "nbconvert_exporter": "python",
   "pygments_lexer": "ipython3",
   "version": "3.13.3"
  }
 },
 "nbformat": 4,
 "nbformat_minor": 5
}
