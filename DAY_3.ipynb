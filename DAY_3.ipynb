{
 "cells": [
  {
   "cell_type": "code",
   "execution_count": 2,
   "metadata": {},
   "outputs": [
    {
     "name": "stdout",
     "output_type": "stream",
     "text": [
      "object variable : 10\n",
      "class variable : 1\n",
      "object variable : 20\n",
      "class variable : 2\n",
      "object variable : 30\n",
      "class variable : 3\n"
     ]
    }
   ],
   "source": [
    "#class construcor __init__(method)\n",
    "\n",
    "class abc():\n",
    "    cv=0\n",
    "    def __init__(self, val):\n",
    "        abc.cv+=1\n",
    "        self.val=val\n",
    "        print(\"object variable :\",val)\n",
    "        print(\"class variable :\",abc.cv)\n",
    "obj = abc(10)\n",
    "obj1 = abc(20)\n",
    "obj2 = abc(30)"
   ]
  },
  {
   "cell_type": "code",
   "execution_count": 3,
   "metadata": {},
   "outputs": [
    {
     "name": "stdout",
     "output_type": "stream",
     "text": [
      "hello\n"
     ]
    }
   ],
   "source": [
    "print(\"hello\")"
   ]
  },
  {
   "cell_type": "code",
   "execution_count": 4,
   "metadata": {},
   "outputs": [
    {
     "name": "stdout",
     "output_type": "stream",
     "text": [
      "check\n"
     ]
    }
   ],
   "source": [
    "print(\"check\")"
   ]
  },
  {
   "cell_type": "code",
   "execution_count": 5,
   "metadata": {},
   "outputs": [
    {
     "name": "stdout",
     "output_type": "stream",
     "text": [
      "the value stroed in object is : 10\n",
      "the length of name stored in object : 6\n",
      "second value is lessthan first value\n"
     ]
    }
   ],
   "source": [
    "class abc():\n",
    "    def __init__(self,name,var):\n",
    "        self.name=name\n",
    "        self.var=var\n",
    "    def __repr__(self):\n",
    "        return repr(self.var)\n",
    "    def __len__(self):\n",
    "        return len(self.name)\n",
    "    def __cmp__(self,obj):\n",
    "        return self.var-obj.var\n",
    "obj = abc(\"abcdef\",10)\n",
    "print(\"the value stroed in object is :\",repr(obj))\n",
    "print(\"the length of name stored in object :\",len(obj))\n",
    "obj1=abc(\"ghijkl\",1)\n",
    "val=obj.__cmp__(obj1)\n",
    "if val==0:\n",
    "    print(\"both values are equal\")\n",
    "elif val==-1:\n",
    "    print(\"first value is lessthan second value\")\n",
    "else:\n",
    "    print(\"second value is lessthan first value\")"
   ]
  },
  {
   "cell_type": "code",
   "execution_count": null,
   "metadata": {},
   "outputs": [],
   "source": [
    "class numbers:\n",
    "    def __init__(self, mylist):\n",
    "        self.mylist=mylist\n",
    "    def __getitem__(self, index):\n",
    "        return self.mylist[index]\n",
    "    def __setitem__(self, index, val):\n",
    "        self.myself"
   ]
  }
 ],
 "metadata": {
  "kernelspec": {
   "display_name": "Python 3",
   "language": "python",
   "name": "python3"
  },
  "language_info": {
   "codemirror_mode": {
    "name": "ipython",
    "version": 3
   },
   "file_extension": ".py",
   "mimetype": "text/x-python",
   "name": "python",
   "nbconvert_exporter": "python",
   "pygments_lexer": "ipython3",
   "version": "3.13.3"
  }
 },
 "nbformat": 4,
 "nbformat_minor": 2
}
